{
 "cells": [
  {
   "cell_type": "code",
   "execution_count": 137,
   "metadata": {},
   "outputs": [
    {
     "name": "stdout",
     "output_type": "stream",
     "text": [
      "\n",
      " Rose, Lily, Jasmine and Orchids are flowers.\n",
      "\n",
      " They are all beautiful in their own way.\n"
     ]
    }
   ],
   "source": [
    "#Sentence Segmentation\n",
    "import spacy\n",
    "nlp = spacy.load('en_core_web_sm')\n",
    "text=\"Rose, Lily, Jasmine and Orchids are flowers. They are all beautiful in their own way.\"\n",
    "doc=nlp(text)\n",
    "for sentence in doc.sents:\n",
    "    print(\"\\n\",sentence.text)\n",
    "    "
   ]
  },
  {
   "cell_type": "code",
   "execution_count": 138,
   "metadata": {},
   "outputs": [
    {
     "name": "stdout",
     "output_type": "stream",
     "text": [
      "rose, lily, jasmine and orchids are flowers. they are all beautiful in their own way.\n"
     ]
    }
   ],
   "source": [
    "#Converting string to lowercase\n",
    "text=\"Rose, Lily, Jasmine and Orchids are flowers. They are all beautiful in their own way.\"\n",
    "print(text.lower())\n",
    "\n"
   ]
  },
  {
   "cell_type": "code",
   "execution_count": 139,
   "metadata": {},
   "outputs": [
    {
     "name": "stdout",
     "output_type": "stream",
     "text": [
      "\n",
      " The tokens for given text are:\n",
      "['Rose', ',', 'Lily', ',', 'Jasmine', 'and', 'Orchids', 'are', 'flowers', '.']\n"
     ]
    }
   ],
   "source": [
    "#Word Tokenization\n",
    "import spacy\n",
    "nlp = spacy.load('en_core_web_sm')\n",
    "text=\"Rose, Lily, Jasmine and Orchids are flowers.\"\n",
    "doc=nlp(text)\n",
    "tokens = [token.text for token in doc]\n",
    "print(\"\\n The tokens for given text are:\")\n",
    "print(tokens)\n"
   ]
  },
  {
   "cell_type": "code",
   "execution_count": 140,
   "metadata": {},
   "outputs": [
    {
     "data": {
      "text/plain": [
       "'I want to remove this punctuation'"
      ]
     },
     "execution_count": 140,
     "metadata": {},
     "output_type": "execute_result"
    }
   ],
   "source": [
    "#Removing Puntuation\n",
    "import string\n",
    "s=\"I want to remove. this. punctuation?\"\n",
    "s.translate(str.maketrans('', '', string.punctuation))\n"
   ]
  },
  {
   "cell_type": "code",
   "execution_count": 141,
   "metadata": {},
   "outputs": [
    {
     "data": {
      "text/plain": [
       "'There are special characters like in your sentence '"
      ]
     },
     "execution_count": 141,
     "metadata": {},
     "output_type": "execute_result"
    }
   ],
   "source": [
    "#Removing Special Characters\n",
    "import re\n",
    "text=\"There are special characters like # @ !%* in your sentence.\"\n",
    "re.sub('[^A-Za-z0-9]+',' ',text)\n",
    "\n"
   ]
  },
  {
   "cell_type": "code",
   "execution_count": 142,
   "metadata": {},
   "outputs": [
    {
     "name": "stdout",
     "output_type": "stream",
     "text": [
      "\n",
      " Tokens after stopword removal are\n",
      "['Rose', ',', 'Lily', ',', 'Jasmine', 'Orchids', 'flowers', '.']\n"
     ]
    }
   ],
   "source": [
    "#Removing Stopwords\n",
    "from nltk.corpus import stopwords \n",
    "stop_words = set(stopwords.words('english')) \n",
    "tokens=[word for word in tokens if word not in stop_words]\n",
    "print(\"\\n Tokens after stopword removal are\")\n",
    "print(tokens)\n"
   ]
  },
  {
   "cell_type": "code",
   "execution_count": 143,
   "metadata": {},
   "outputs": [
    {
     "name": "stdout",
     "output_type": "stream",
     "text": [
      "Word: corpora ==> Base Form: corpus\n"
     ]
    }
   ],
   "source": [
    "#Lemmatization\n",
    "from nltk.stem import WordNetLemmatizer \n",
    "  \n",
    "lemmatizer = WordNetLemmatizer() \n",
    "  \n",
    "print(\"Word: corpora ==> Base Form:\" , lemmatizer.lemmatize(\"corpora\"))\n"
   ]
  },
  {
   "cell_type": "code",
   "execution_count": 144,
   "metadata": {},
   "outputs": [
    {
     "name": "stdout",
     "output_type": "stream",
     "text": [
      "Word: corpora ==> Base Form: corpora\n",
      "Word: rocking ==> Base Form: rock\n"
     ]
    }
   ],
   "source": [
    "#Stemming\n",
    "import nltk\n",
    "\n",
    "from nltk.stem.porter import *\n",
    "\n",
    "stemmer = PorterStemmer()\n",
    "\n",
    "print(\"Word: corpora ==> Base Form: \" + stemmer.stem(\"corpora\"))\n",
    "print(\"Word: rocking ==> Base Form: \" + stemmer.stem(\"rocking\"))\n",
    " \n",
    "  \n"
   ]
  },
  {
   "cell_type": "code",
   "execution_count": 145,
   "metadata": {},
   "outputs": [],
   "source": [
    "#Bag of Words\n",
    "from sklearn.feature_extraction.text import CountVectorizer\n",
    "import pandas as pd\n",
    "\n",
    "corpus = [\n",
    "'This is the first document.',\n",
    "'This document is the second document.',\n",
    "'And this is the third one.',\n",
    "'Is this the first document?']\n",
    "\n",
    "vectorizer = CountVectorizer()\n",
    "X = vectorizer.fit_transform(corpus)\n",
    "\n",
    "df=pd.DataFrame(X.toarray(), columns=vectorizer.get_feature_names())\n",
    "df['Sentence']=corpus\n",
    "df.to_csv(\"bow.csv\", index=False)\n",
    "\n"
   ]
  },
  {
   "cell_type": "code",
   "execution_count": 146,
   "metadata": {},
   "outputs": [],
   "source": [
    "#TF-IDF Model\n",
    "from sklearn.feature_extraction.text import TfidfVectorizer\n",
    "import pandas as pd\n",
    "\n",
    "corpus = [\n",
    "'This is the first document.',\n",
    "'This document is the second document.',\n",
    "'And this is the third one.',\n",
    "'Is this the first document?']\n",
    "\n",
    "vectorizer = TfidfVectorizer()\n",
    "X = vectorizer.fit_transform(corpus)\n",
    "\n",
    "df=pd.DataFrame(X.toarray(), columns=vectorizer.get_feature_names())\n",
    "df['Sentence']=corpus\n",
    "df.to_csv(\"tfidf.csv\", index=False)\n",
    "\n"
   ]
  },
  {
   "cell_type": "code",
   "execution_count": null,
   "metadata": {},
   "outputs": [],
   "source": []
  },
  {
   "cell_type": "code",
   "execution_count": null,
   "metadata": {},
   "outputs": [],
   "source": []
  },
  {
   "cell_type": "code",
   "execution_count": null,
   "metadata": {},
   "outputs": [],
   "source": [
    " \n"
   ]
  },
  {
   "cell_type": "code",
   "execution_count": null,
   "metadata": {},
   "outputs": [],
   "source": [
    "    \n",
    "      "
   ]
  },
  {
   "cell_type": "code",
   "execution_count": null,
   "metadata": {},
   "outputs": [],
   "source": []
  },
  {
   "cell_type": "code",
   "execution_count": null,
   "metadata": {},
   "outputs": [],
   "source": []
  },
  {
   "cell_type": "code",
   "execution_count": null,
   "metadata": {},
   "outputs": [],
   "source": []
  },
  {
   "cell_type": "code",
   "execution_count": null,
   "metadata": {},
   "outputs": [],
   "source": []
  },
  {
   "cell_type": "code",
   "execution_count": null,
   "metadata": {},
   "outputs": [],
   "source": [
    "\n"
   ]
  },
  {
   "cell_type": "code",
   "execution_count": null,
   "metadata": {},
   "outputs": [],
   "source": []
  },
  {
   "cell_type": "code",
   "execution_count": null,
   "metadata": {},
   "outputs": [],
   "source": []
  },
  {
   "cell_type": "code",
   "execution_count": null,
   "metadata": {},
   "outputs": [],
   "source": []
  },
  {
   "cell_type": "code",
   "execution_count": null,
   "metadata": {},
   "outputs": [],
   "source": []
  },
  {
   "cell_type": "code",
   "execution_count": null,
   "metadata": {},
   "outputs": [],
   "source": []
  }
 ],
 "metadata": {
  "kernelspec": {
   "display_name": "Python 3",
   "language": "python",
   "name": "python3"
  },
  "language_info": {
   "codemirror_mode": {
    "name": "ipython",
    "version": 3
   },
   "file_extension": ".py",
   "mimetype": "text/x-python",
   "name": "python",
   "nbconvert_exporter": "python",
   "pygments_lexer": "ipython3",
   "version": "3.7.4"
  }
 },
 "nbformat": 4,
 "nbformat_minor": 2
}
